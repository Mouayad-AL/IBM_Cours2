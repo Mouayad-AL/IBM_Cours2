{
 "cells": [
  {
   "cell_type": "markdown",
   "id": "5ce08a22-e630-4e83-9107-110fb7ad2a74",
   "metadata": {},
   "source": [
    "# Data Science Tools and Ecosystem "
   ]
  },
  {
   "cell_type": "markdown",
   "id": "97265e44-de45-45f7-8397-cab78ff3f716",
   "metadata": {},
   "source": [
    "### In This Notebook, ***Data Science Tools and Ecosystem are Summarized***"
   ]
  },
  {
   "cell_type": "markdown",
   "id": "48c0349d-9a28-408f-97a3-3e0240fa23b2",
   "metadata": {},
   "source": [
    "# *Objectives:*\n",
    "-   List Popular Languages for Data Science\n",
    "-   List Commonly Libraries Used By Data Scientists\n",
    "-   List Some of Tools Used in Data Science\n",
    "-   Evaluating Arithmetic Expressions Which is Multiply Then Add Integers\n",
    "-   Evaluating Arithmetic Expressions Which is convert 200 minutes to hours by dividing by 60"
   ]
  },
  {
   "cell_type": "markdown",
   "id": "80a38553-0c70-48ae-9fb7-0e1006a26333",
   "metadata": {},
   "source": [
    "### Some of the popular languages that Data Scientists use are:\n",
    "1. Python\n",
    "2. R\n",
    "3. SQL"
   ]
  },
  {
   "cell_type": "markdown",
   "id": "2b5123a9-1299-4063-be2e-ca863c8abbbc",
   "metadata": {},
   "source": [
    "### Some of the commonly used libraries used by Data Scientists include:\n",
    "1. For Pyton :\n",
    "    1.  NumPy\n",
    "    2.  Pandas\n",
    "    3.  Matplotlib\n",
    "    4.  Scikit-learn\n",
    "    5.  TensorFlow\n",
    "2. For Scala :\n",
    "   1. Vegas\n",
    "   2. Big DL\n",
    "3. For R :\n",
    "   1. Keras\n",
    "   2. ggplot2\n",
    "   3. TensorFlow"
   ]
  },
  {
   "cell_type": "markdown",
   "id": "2758b4d1-4969-45ef-8a93-59a08c4e0f76",
   "metadata": {},
   "source": [
    "| Data Science Tools |\n",
    "|--------------------|\n",
    "| My SQL  |\n",
    "| Apache AirFlow            |\n",
    "| HUE     |"
   ]
  },
  {
   "cell_type": "markdown",
   "id": "3dc45195-dcc0-4956-a502-76cdaabe9bfe",
   "metadata": {},
   "source": [
    "### Below are a few examples of evaluating arithmetic expressions in Python"
   ]
  },
  {
   "cell_type": "code",
   "execution_count": 4,
   "id": "fa20ce83-ed87-4efb-8f25-74420f3e1bb2",
   "metadata": {},
   "outputs": [
    {
     "data": {
      "text/plain": [
       "17"
      ]
     },
     "execution_count": 4,
     "metadata": {},
     "output_type": "execute_result"
    }
   ],
   "source": [
    "# This is a simple arithmetic expression to multiply then add integers\n",
    "(3*4)+5"
   ]
  },
  {
   "cell_type": "code",
   "execution_count": 5,
   "id": "e842c3d7-2898-4f36-a892-f2cccadd42e9",
   "metadata": {},
   "outputs": [
    {
     "data": {
      "text/plain": [
       "3.3333333333333335"
      ]
     },
     "execution_count": 5,
     "metadata": {},
     "output_type": "execute_result"
    }
   ],
   "source": [
    "# This will convert 200 minutes to hours by dividing by 60\n",
    "200 / 60"
   ]
  },
  {
   "cell_type": "markdown",
   "id": "4a54fa66-d019-4477-9057-7b8ba66a6a32",
   "metadata": {},
   "source": [
    "## Author\n",
    "Mouayad ALhusain"
   ]
  },
  {
   "cell_type": "code",
   "execution_count": null,
   "id": "36f50c01-d896-415b-9ca6-0be39d45a3a4",
   "metadata": {},
   "outputs": [],
   "source": []
  }
 ],
 "metadata": {
  "kernelspec": {
   "display_name": "Python 3 (ipykernel)",
   "language": "python",
   "name": "python3"
  },
  "language_info": {
   "codemirror_mode": {
    "name": "ipython",
    "version": 3
   },
   "file_extension": ".py",
   "mimetype": "text/x-python",
   "name": "python",
   "nbconvert_exporter": "python",
   "pygments_lexer": "ipython3",
   "version": "3.13.5"
  }
 },
 "nbformat": 4,
 "nbformat_minor": 5
}
